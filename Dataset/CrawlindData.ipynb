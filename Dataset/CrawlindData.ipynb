{
 "cells": [
  {
   "cell_type": "code",
   "execution_count": 1,
   "id": "9e1e3968",
   "metadata": {},
   "outputs": [],
   "source": [
    "from bs4 import BeautifulSoup\n",
    "import requests\n",
    "import re\n",
    "import pandas as pd"
   ]
  },
  {
   "cell_type": "code",
   "execution_count": 2,
   "id": "041872ba",
   "metadata": {},
   "outputs": [],
   "source": [
    "url = 'https://www.imdb.com/review/rw6506593/?ref_=tt_urv'\n",
    "response = requests.get(url)\n",
    "soup = BeautifulSoup(response.text, \"html.parser\")"
   ]
  },
  {
   "cell_type": "code",
   "execution_count": 11,
   "id": "5f5d34ef",
   "metadata": {},
   "outputs": [
    {
     "name": "stdout",
     "output_type": "stream",
     "text": [
      "어벤져스: 인피니티 워 /title/tt4154756/\n"
     ]
    }
   ],
   "source": [
    "movie = soup.select_one('div.lister-item-header a')\n",
    "link = movie.attrs.get('href')\n",
    "movie_name = movie.get_text()\n",
    "print(movie_name, link)\n"
   ]
  },
  {
   "cell_type": "code",
   "execution_count": 24,
   "id": "9ad06eab",
   "metadata": {},
   "outputs": [
    {
     "name": "stdout",
     "output_type": "stream",
     "text": [
      "<span>10</span>\n",
      "10\n"
     ]
    }
   ],
   "source": [
    "rating = soup.select_one('span.rating-other-user-rating span')\n",
    "print(rating)\n",
    "print(rating.get_text())"
   ]
  },
  {
   "cell_type": "code",
   "execution_count": 26,
   "id": "9dbcbb68",
   "metadata": {},
   "outputs": [
    {
     "name": "stdout",
     "output_type": "stream",
     "text": [
      "Avengers: Infinity War is a film that should be utter crap. A franchise stretching almost twenty films is unheard of. And making a great and satisfying climax to that franchise is nearly impossible. Considering how many characters Marvel had to juggle together with this movie, there was almost no way this movie wouldn't suck.But it didn't. Marvel pulled it off. All of the characters were balanced seemingly effortlessly. The action was amazing. The characters were funny. The story was compelling. Marvel made what should've been an overcrowded mess into one of the best superhero films ever made.This movie will sit you on the edge of your seat for 2 and a half hours. Hats off to the writers, directors, producers, and Marvel Studios.10/10\n"
     ]
    }
   ],
   "source": [
    "review = soup.select_one('div.text.show-more__control')\n",
    "print(review.get_text())"
   ]
  }
 ],
 "metadata": {
  "kernelspec": {
   "display_name": "Python 3 (ipykernel)",
   "language": "python",
   "name": "python3"
  },
  "language_info": {
   "codemirror_mode": {
    "name": "ipython",
    "version": 3
   },
   "file_extension": ".py",
   "mimetype": "text/x-python",
   "name": "python",
   "nbconvert_exporter": "python",
   "pygments_lexer": "ipython3",
   "version": "3.9.7"
  }
 },
 "nbformat": 4,
 "nbformat_minor": 5
}
